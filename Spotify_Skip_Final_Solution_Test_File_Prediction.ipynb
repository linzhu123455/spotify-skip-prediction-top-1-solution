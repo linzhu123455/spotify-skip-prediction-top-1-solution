{
 "cells": [
  {
   "cell_type": "code",
   "execution_count": 1,
   "metadata": {},
   "outputs": [
    {
     "name": "stderr",
     "output_type": "stream",
     "text": [
      "Using TensorFlow backend.\n"
     ]
    }
   ],
   "source": [
    "import numpy as np\n",
    "import pandas as pd\n",
    "import gc\n",
    "import os\n",
    "import hickle as hkl\n",
    "from numpy import random\n",
    "from sklearn.preprocessing import MinMaxScaler\n",
    "\n",
    "from sklearn.preprocessing import LabelEncoder\n",
    "from sklearn.externals import joblib\n",
    "\n",
    "from keras.models import Model\n",
    "from keras.optimizers import Adam, SGD\n",
    "from keras import initializers, regularizers, constraints\n",
    "from keras.layers import Bidirectional, GlobalMaxPooling1D, Dense, Embedding\n",
    "from keras.layers import concatenate, Input, LSTM, GRU, merge, Lambda, Dot, Add, Multiply, \\\n",
    "wrappers, Dropout, GlobalAveragePooling1D, Bidirectional, BatchNormalization, Activation\n",
    "import tensorflow as tf\n",
    "from keras.models import Sequential\n",
    "from keras.layers.core import Reshape\n",
    "import keras.backend as K\n",
    "from keras.engine.topology import Layer\n",
    "from keras.layers import LSTM, Dense\n",
    "from tqdm import tqdm\n",
    "import glob\n",
    "from keras.callbacks import EarlyStopping, ModelCheckpoint, Callback, ReduceLROnPlateau\n",
    "\n",
    "\n",
    "import keras.backend as KTF\n",
    "import tensorflow as tf\n",
    "#os.environ[\"CUDA_VISIBLE_DEVICES\"] = \"1\"\n",
    "config = tf.ConfigProto()\n",
    "config.gpu_options.allow_growth = True\n",
    "sess = tf.Session(config=config)\n",
    "KTF.set_session(sess)\n",
    "\n",
    "test_data_path = 'test_pred/'"
   ]
  },
  {
   "cell_type": "code",
   "execution_count": 2,
   "metadata": {},
   "outputs": [
    {
     "name": "stderr",
     "output_type": "stream",
     "text": [
      "/opt/app/conda/lib/python3.6/site-packages/sklearn/base.py:251: UserWarning: Trying to unpickle estimator LabelEncoder from version 0.20.1 when using version 0.20.0. This might lead to breaking code or invalid results. Use at your own risk.\n",
      "  UserWarning)\n",
      "/opt/app/conda/lib/python3.6/site-packages/sklearn/preprocessing/data.py:323: DataConversionWarning: Data with input dtype int64, float64 were all converted to float64 by MinMaxScaler.\n",
      "  return self.partial_fit(X, y)\n"
     ]
    }
   ],
   "source": [
    "\n",
    "batch_size = 1000\n",
    "\n",
    "data_path = 'Skip_Data/'\n",
    "\n",
    "le_track_id = joblib.load('le_track_id.pkl')\n",
    "\n",
    "spotify_song_fea = pd.read_parquet('spotify_song_fea.parquet')\n",
    "\n",
    "le = LabelEncoder()\n",
    "##\n",
    "spotify_song_fea['mode'] = le.fit_transform(spotify_song_fea['mode'])\n",
    "\n",
    "track_id = np.array(spotify_song_fea['track_id'])\n",
    "\n",
    "cols_to_be_normalized = ['duration', 'release_year', 'us_popularity_estimate',\n",
    "       'acousticness', 'beat_strength', 'bounciness', 'danceability',\n",
    "       'dyn_range_mean', 'energy', 'flatness', 'instrumentalness', 'key',\n",
    "       'liveness', 'loudness', 'mechanism', 'mode', 'organism', 'speechiness',\n",
    "       'tempo', 'time_signature', 'valence', 'acoustic_vector_0',\n",
    "       'acoustic_vector_1', 'acoustic_vector_2', 'acoustic_vector_3',\n",
    "       'acoustic_vector_4', 'acoustic_vector_5', 'acoustic_vector_6',\n",
    "       'acoustic_vector_7']\n",
    "\n",
    "scaler = MinMaxScaler()\n",
    "\n",
    "spotify_song_array = scaler.fit_transform(spotify_song_fea[cols_to_be_normalized])\n",
    "\n",
    "order = np.argsort(track_id)\n",
    "spotify_song_array = spotify_song_array[order,:]"
   ]
  },
  {
   "cell_type": "code",
   "execution_count": 3,
   "metadata": {},
   "outputs": [
    {
     "name": "stderr",
     "output_type": "stream",
     "text": [
      "/usr/local/lib/python3.5/dist-packages/sklearn/base.py:251: UserWarning: Trying to unpickle estimator LabelEncoder from version 0.20.1 when using version 0.20.0. This might lead to breaking code or invalid results. Use at your own risk.\n",
      "  UserWarning)\n",
      "/usr/local/lib/python3.5/dist-packages/sklearn/preprocessing/data.py:323: DataConversionWarning: Data with input dtype int64, float64 were all converted to float64 by MinMaxScaler.\n",
      "  return self.partial_fit(X, y)\n"
     ]
    }
   ],
   "source": [
    "\n",
    "'''\n",
    "batch_size = 1500 # skip_net_glove_max_mtsk_more_layer_best\n",
    "\n",
    "batch_size = 3000 # skip_net_glove_max_mtsk_more_layer_best_v2\n",
    "\n",
    "batch_size = 3000 # skip_net_glove_max_mtsk_more_layer_best_bn\n",
    "\n",
    "data_path = 'Skip_Data/'\n",
    "\n",
    "le_track_id = joblib.load('le_track_id.pkl')\n",
    "\n",
    "spotify_song_fea = pd.read_parquet('spotify_song_fea.parquet')\n",
    "\n",
    "le = LabelEncoder()\n",
    "##\n",
    "spotify_song_fea['mode'] = le.fit_transform(spotify_song_fea['mode'])\n",
    "\n",
    "track_id = np.array(spotify_song_fea['track_id'])\n",
    "\n",
    "spotify_song_fea['duration'] = spotify_song_fea['duration']/100\n",
    "spotify_song_fea['release_year'] = spotify_song_fea['release_year']-1950\n",
    "spotify_song_fea['us_popularity_estimate'] = spotify_song_fea['us_popularity_estimate'] - 90\n",
    "\n",
    "spotify_song_fea['duration_05'] = spotify_song_fea['duration']**0.5\n",
    "spotify_song_fea['duration_15'] = spotify_song_fea['duration']**1.5\n",
    "spotify_song_fea['duration_2'] = spotify_song_fea['duration']**2\n",
    "spotify_song_fea['duration_3'] = spotify_song_fea['duration']**3\n",
    "\n",
    "spotify_song_fea['release_year_05'] = spotify_song_fea['release_year']**0.5\n",
    "spotify_song_fea['release_year_15'] = spotify_song_fea['release_year']**1.5\n",
    "spotify_song_fea['release_year_2'] = spotify_song_fea['release_year']**2\n",
    "spotify_song_fea['release_year_3'] = spotify_song_fea['release_year']**3\n",
    "\n",
    "spotify_song_fea['us_popularity_estimate_15'] = spotify_song_fea['us_popularity_estimate']**1.5\n",
    "spotify_song_fea['us_popularity_estimate_2'] = spotify_song_fea['us_popularity_estimate']**2\n",
    "spotify_song_fea['us_popularity_estimate_3'] = spotify_song_fea['us_popularity_estimate']**3\n",
    "\n",
    "cols_to_be_normalized = ['us_popularity_estimate_3', 'us_popularity_estimate_2', 'us_popularity_estimate_15', 'release_year_05','release_year_15','release_year_2','duration_05','duration_15','duration_2','duration', 'release_year', 'us_popularity_estimate',\n",
    "       'acousticness', 'beat_strength', 'bounciness', 'danceability',\n",
    "       'dyn_range_mean', 'energy', 'flatness', 'instrumentalness', 'key',\n",
    "       'liveness', 'loudness', 'mechanism', 'mode', 'organism', 'speechiness',\n",
    "       'tempo', 'time_signature', 'valence', 'acoustic_vector_0',\n",
    "       'acoustic_vector_1', 'acoustic_vector_2', 'acoustic_vector_3',\n",
    "       'acoustic_vector_4', 'acoustic_vector_5', 'acoustic_vector_6',\n",
    "       'acoustic_vector_7']\n",
    "\n",
    "scaler = MinMaxScaler()\n",
    "\n",
    "spotify_song_array = scaler.fit_transform(spotify_song_fea[cols_to_be_normalized])\n",
    "\n",
    "order = np.argsort(track_id)\n",
    "spotify_song_array = spotify_song_array[order,:]\n",
    "\n",
    "'''"
   ]
  },
  {
   "cell_type": "code",
   "execution_count": 4,
   "metadata": {},
   "outputs": [],
   "source": [
    "song_zero_embedding = -2*np.ones((1,spotify_song_array.shape[1]))\n",
    "spotify_song_array = np.concatenate((song_zero_embedding,spotify_song_array),axis=0)"
   ]
  },
  {
   "cell_type": "code",
   "execution_count": 7,
   "metadata": {},
   "outputs": [
    {
     "data": {
      "text/plain": [
       "(3706389, 179)"
      ]
     },
     "execution_count": 7,
     "metadata": {},
     "output_type": "execute_result"
    }
   ],
   "source": [
    "spotify_song_array.shape"
   ]
  },
  {
   "cell_type": "code",
   "execution_count": 6,
   "metadata": {},
   "outputs": [
    {
     "name": "stderr",
     "output_type": "stream",
     "text": [
      "/opt/app/conda/lib/python3.6/site-packages/h5py/_hl/files.py:258: H5pyDeprecationWarning: File.fid has been deprecated. Use File.id instead.\n",
      "  \"Use File.id instead.\", H5pyDeprecationWarning)\n"
     ]
    }
   ],
   "source": [
    "spotify_song_array_glove = hkl.load('song_embedding_matrix_150.hkl')\n",
    "\n",
    "gc.collect()\n",
    "\n",
    "spotify_song_array = np.concatenate((spotify_song_array,spotify_song_array_glove),axis=1)"
   ]
  },
  {
   "cell_type": "code",
   "execution_count": 8,
   "metadata": {},
   "outputs": [],
   "source": [
    "le_context_type = joblib.load(data_path+'le_context_type.pkl')\n",
    "le_reason_start = joblib.load(data_path+'le_reason_start.pkl')\n",
    "le_reason_end = joblib.load(data_path+'le_reason_end.pkl')\n",
    "\n",
    "n_context_type = len(le_context_type.classes_) + 1\n",
    "n_reason_start = len(le_reason_start.classes_) + 1\n",
    "n_reason_end = len(le_reason_end.classes_) + 1"
   ]
  },
  {
   "cell_type": "code",
   "execution_count": 9,
   "metadata": {},
   "outputs": [],
   "source": [
    "test_files = glob.glob(test_data_path + 'pred_*.parquet')\n",
    "len(test_files)\n",
    "test_files = list(np.sort(test_files))"
   ]
  },
  {
   "cell_type": "code",
   "execution_count": 10,
   "metadata": {},
   "outputs": [],
   "source": [
    "test_files = list(np.sort(test_files))"
   ]
  },
  {
   "cell_type": "code",
   "execution_count": 11,
   "metadata": {},
   "outputs": [
    {
     "data": {
      "text/plain": [
       "['test_pred/pred_20180715.parquet',\n",
       " 'test_pred/pred_20180716.parquet',\n",
       " 'test_pred/pred_20180717.parquet',\n",
       " 'test_pred/pred_20180718.parquet',\n",
       " 'test_pred/pred_20180719.parquet',\n",
       " 'test_pred/pred_20180720.parquet',\n",
       " 'test_pred/pred_20180721.parquet',\n",
       " 'test_pred/pred_20180722.parquet',\n",
       " 'test_pred/pred_20180723.parquet',\n",
       " 'test_pred/pred_20180724.parquet',\n",
       " 'test_pred/pred_20180725.parquet',\n",
       " 'test_pred/pred_20180726.parquet',\n",
       " 'test_pred/pred_20180727.parquet',\n",
       " 'test_pred/pred_20180728.parquet',\n",
       " 'test_pred/pred_20180729.parquet',\n",
       " 'test_pred/pred_20180730.parquet',\n",
       " 'test_pred/pred_20180731.parquet',\n",
       " 'test_pred/pred_20180801.parquet',\n",
       " 'test_pred/pred_20180802.parquet',\n",
       " 'test_pred/pred_20180803.parquet',\n",
       " 'test_pred/pred_20180804.parquet',\n",
       " 'test_pred/pred_20180805.parquet',\n",
       " 'test_pred/pred_20180806.parquet',\n",
       " 'test_pred/pred_20180807.parquet',\n",
       " 'test_pred/pred_20180808.parquet',\n",
       " 'test_pred/pred_20180809.parquet',\n",
       " 'test_pred/pred_20180810.parquet',\n",
       " 'test_pred/pred_20180811.parquet',\n",
       " 'test_pred/pred_20180812.parquet',\n",
       " 'test_pred/pred_20180813.parquet',\n",
       " 'test_pred/pred_20180814.parquet',\n",
       " 'test_pred/pred_20180815.parquet',\n",
       " 'test_pred/pred_20180816.parquet',\n",
       " 'test_pred/pred_20180817.parquet',\n",
       " 'test_pred/pred_20180818.parquet',\n",
       " 'test_pred/pred_20180819.parquet',\n",
       " 'test_pred/pred_20180820.parquet',\n",
       " 'test_pred/pred_20180821.parquet',\n",
       " 'test_pred/pred_20180822.parquet',\n",
       " 'test_pred/pred_20180823.parquet',\n",
       " 'test_pred/pred_20180824.parquet',\n",
       " 'test_pred/pred_20180825.parquet',\n",
       " 'test_pred/pred_20180826.parquet',\n",
       " 'test_pred/pred_20180827.parquet',\n",
       " 'test_pred/pred_20180828.parquet',\n",
       " 'test_pred/pred_20180829.parquet',\n",
       " 'test_pred/pred_20180830.parquet',\n",
       " 'test_pred/pred_20180831.parquet',\n",
       " 'test_pred/pred_20180901.parquet',\n",
       " 'test_pred/pred_20180902.parquet',\n",
       " 'test_pred/pred_20180903.parquet',\n",
       " 'test_pred/pred_20180904.parquet',\n",
       " 'test_pred/pred_20180905.parquet',\n",
       " 'test_pred/pred_20180906.parquet',\n",
       " 'test_pred/pred_20180907.parquet',\n",
       " 'test_pred/pred_20180908.parquet',\n",
       " 'test_pred/pred_20180909.parquet',\n",
       " 'test_pred/pred_20180910.parquet',\n",
       " 'test_pred/pred_20180911.parquet',\n",
       " 'test_pred/pred_20180912.parquet',\n",
       " 'test_pred/pred_20180913.parquet',\n",
       " 'test_pred/pred_20180914.parquet',\n",
       " 'test_pred/pred_20180915.parquet',\n",
       " 'test_pred/pred_20180916.parquet',\n",
       " 'test_pred/pred_20180917.parquet',\n",
       " 'test_pred/pred_20180918.parquet']"
      ]
     },
     "execution_count": 11,
     "metadata": {},
     "output_type": "execute_result"
    }
   ],
   "source": [
    "test_files"
   ]
  },
  {
   "cell_type": "code",
   "execution_count": 10,
   "metadata": {},
   "outputs": [],
   "source": [
    "\n",
    "def TestPredProcessSessionCate(pred_df):\n",
    "    session_cols = ['session_id', 'session_position', 'session_length', 'track_id_clean']\n",
    "\n",
    "    pred_df['track_id_clean'] = pred_df['track_id_clean'] + 1\n",
    "    \n",
    "    output_raw_data = np.array(pred_df[session_cols].values) * 1\n",
    "    output_raw_data = output_raw_data.astype(np.float)\n",
    "\n",
    "    output_raw_data_first_p = np.floor(output_raw_data[:, 2] / 2).astype(np.int)\n",
    "    output_raw_data_first_p = -output_raw_data_first_p + output_raw_data[:, 1]\n",
    "\n",
    "    n_session = int(np.max(output_raw_data[:,0])) + 1\n",
    "    gc.collect()\n",
    "    output_data = -2 * np.ones((n_session * 10, 2))\n",
    "    \n",
    "    output_raw_data[:,2] = output_raw_data[:,1]/output_raw_data[:,2]\n",
    "\n",
    "    output_data[output_raw_data[:, 0].astype(np.int) * 10 + output_raw_data_first_p.astype(np.int) - 1,\n",
    "    :] = output_raw_data[:, 2:4]\n",
    "    output_data = np.reshape(output_data, (n_session, 10, output_data.shape[1]))\n",
    "\n",
    "    output_data_id = output_data[:,:,1]\n",
    "    \n",
    "    output_data = output_data[:,:,0]\n",
    "    \n",
    "    output_data_id[output_data_id<0] = 0    \n",
    "    output_data_id = output_data_id.astype(int)\n",
    "\n",
    "    return output_data, output_data_id\n",
    "\n",
    "\n",
    "def TestPreHistSessionCate(pre_hist_df):\n",
    "    pre_hist_df['context_type'] = le_context_type.transform(pre_hist_df['context_type'])\n",
    "    pre_hist_df['hist_user_behavior_reason_start'] = le_reason_start.transform(pre_hist_df['hist_user_behavior_reason_start'])\n",
    "    pre_hist_df['hist_user_behavior_reason_end'] = le_reason_end.transform(pre_hist_df['hist_user_behavior_reason_end'])\n",
    "    session_cols = ['session_id', 'session_position', 'session_length', 'track_id_clean',\n",
    "                    'skip_1', 'skip_2', 'skip_3', 'not_skipped', 'context_switch',\n",
    "                    'no_pause_before_play', 'short_pause_before_play',\n",
    "                    'long_pause_before_play', 'hist_user_behavior_n_seekfwd',\n",
    "                    'hist_user_behavior_n_seekback', 'hist_user_behavior_is_shuffle',\n",
    "                    'hour_of_day', 'premium', 'context_type',\n",
    "                    'hist_user_behavior_reason_start', 'hist_user_behavior_reason_end']\n",
    "\n",
    "    pre_hist_df['track_id_clean'] = pre_hist_df['track_id_clean'] + 1\n",
    "    pre_hist_df['hour_of_day'] = pre_hist_df['hour_of_day']/24\n",
    "\n",
    "    input_raw_data = np.array(pre_hist_df[session_cols].values) * 1\n",
    "    input_raw_data = input_raw_data.astype(np.float)\n",
    "\n",
    "    input_raw_data_final_p = np.floor(input_raw_data[:, 2]/2).astype(np.int)\n",
    "    input_raw_data_final_p = 10 - input_raw_data_final_p + input_raw_data[:, 1]\n",
    "\n",
    "    n_session = int(np.max(input_raw_data[:,0])) + 1\n",
    "    gc.collect()\n",
    "    input_data = -2 * np.ones((n_session * 10, 18))\n",
    "\n",
    "    input_data[:, 17] = n_reason_end - 1    \n",
    "    input_data[:, 16] = n_reason_start - 1    \n",
    "    input_data[:, 15] = n_context_type - 1\n",
    "    \n",
    "    input_raw_data[:,2] = input_raw_data[:,1]/input_raw_data[:,2]\n",
    "\n",
    "    input_data[input_raw_data[:, 0].astype(np.int) * 10 + input_raw_data_final_p.astype(np.int) - 1,\n",
    "    :] = input_raw_data[:, 2:20]\n",
    "    input_data = np.reshape(input_data, (n_session, 10, input_data.shape[1]))\n",
    "\n",
    "    input_data_context_id = input_data[:,:,15]\n",
    "    input_data_start_id = input_data[:,:,16]\n",
    "    input_data_end_id = input_data[:,:,17]\n",
    "\n",
    "    input_data = input_data[:,:,range(15)]\n",
    "\n",
    "    input_data_id = input_data[:,:,1]\n",
    "    input_data = np.delete(input_data, 1, 2)\n",
    "    \n",
    "    input_data_context_id[input_data_context_id<0] = 0\n",
    "    input_data_start_id[input_data_start_id<0] = 0\n",
    "    input_data_end_id[input_data_end_id<0] = 0\n",
    "    input_data_id[input_data_id<0] = 0\n",
    "    \n",
    "    input_data_context_id = input_data_context_id.astype(int)\n",
    "    input_data_start_id = input_data_start_id.astype(int)\n",
    "    input_data_end_id = input_data_end_id.astype(int)\n",
    "    input_data_id = input_data_id.astype(int)\n",
    "    \n",
    "\n",
    "    return input_data, input_data_context_id, input_data_start_id, input_data_end_id,input_data_id"
   ]
  },
  {
   "cell_type": "code",
   "execution_count": 12,
   "metadata": {},
   "outputs": [
    {
     "name": "stdout",
     "output_type": "stream",
     "text": [
      "__________________________________________________________________________________________________\n",
      "Layer (type)                    Output Shape         Param #     Connected to                     \n",
      "==================================================================================================\n",
      "input_id (InputLayer)           (None, 10)           0                                            \n",
      "__________________________________________________________________________________________________\n",
      "context (InputLayer)            (None, 10)           0                                            \n",
      "__________________________________________________________________________________________________\n",
      "start (InputLayer)              (None, 10)           0                                            \n",
      "__________________________________________________________________________________________________\n",
      "end (InputLayer)                (None, 10)           0                                            \n",
      "__________________________________________________________________________________________________\n",
      "input_fea (InputLayer)          (None, 10, 14)       0                                            \n",
      "__________________________________________________________________________________________________\n",
      "embedding_1 (Embedding)         (None, 10, 179)      663443631   input_id[0][0]                   \n",
      "                                                                 output_id[0][0]                  \n",
      "__________________________________________________________________________________________________\n",
      "embedding_2 (Embedding)         (None, 10, 25)       175         context[0][0]                    \n",
      "__________________________________________________________________________________________________\n",
      "embedding_3 (Embedding)         (None, 10, 25)       325         start[0][0]                      \n",
      "__________________________________________________________________________________________________\n",
      "embedding_4 (Embedding)         (None, 10, 25)       300         end[0][0]                        \n",
      "__________________________________________________________________________________________________\n",
      "concatenate_1 (Concatenate)     (None, 10, 268)      0           input_fea[0][0]                  \n",
      "                                                                 embedding_1[0][0]                \n",
      "                                                                 embedding_2[0][0]                \n",
      "                                                                 embedding_3[0][0]                \n",
      "                                                                 embedding_4[0][0]                \n",
      "__________________________________________________________________________________________________\n",
      "gru_1 (GRU)                     [(None, 10, 350), (N 649950      concatenate_1[0][0]              \n",
      "__________________________________________________________________________________________________\n",
      "output_fea (InputLayer)         (None, 10)           0                                            \n",
      "__________________________________________________________________________________________________\n",
      "output_id (InputLayer)          (None, 10)           0                                            \n",
      "__________________________________________________________________________________________________\n",
      "gru_2 (GRU)                     [(None, 10, 350), (N 736050      gru_1[0][0]                      \n",
      "__________________________________________________________________________________________________\n",
      "reshape_1 (Reshape)             (None, 10, 1)        0           output_fea[0][0]                 \n",
      "__________________________________________________________________________________________________\n",
      "concatenate_2 (Concatenate)     (None, 700)          0           gru_1[0][1]                      \n",
      "                                                                 gru_2[0][1]                      \n",
      "__________________________________________________________________________________________________\n",
      "concatenate_3 (Concatenate)     (None, 10, 180)      0           reshape_1[0][0]                  \n",
      "                                                                 embedding_1[1][0]                \n",
      "__________________________________________________________________________________________________\n",
      "reshape_2 (Reshape)             (None, 1, 700)       0           concatenate_2[0][0]              \n",
      "__________________________________________________________________________________________________\n",
      "dense_1 (Dense)                 (None, 10, 700)      126700      concatenate_3[0][0]              \n",
      "__________________________________________________________________________________________________\n",
      "lambda_1 (Lambda)               (None, 10, 700)      0           reshape_2[0][0]                  \n",
      "__________________________________________________________________________________________________\n",
      "multiply_1 (Multiply)           (None, 10, 700)      0           dense_1[0][0]                    \n",
      "                                                                 concatenate_2[0][0]              \n",
      "__________________________________________________________________________________________________\n",
      "concatenate_4 (Concatenate)     (None, 10, 2100)     0           lambda_1[0][0]                   \n",
      "                                                                 multiply_1[0][0]                 \n",
      "                                                                 dense_1[0][0]                    \n",
      "__________________________________________________________________________________________________\n",
      "bidirectional_1 (Bidirectional) (None, 10, 700)      5147100     concatenate_4[0][0]              \n",
      "__________________________________________________________________________________________________\n",
      "bidirectional_2 (Bidirectional) (None, 10, 700)      2207100     bidirectional_1[0][0]            \n",
      "__________________________________________________________________________________________________\n",
      "bidirectional_3 (Bidirectional) (None, 10, 400)      1081200     bidirectional_2[0][0]            \n",
      "__________________________________________________________________________________________________\n",
      "bidirectional_4 (Bidirectional) (None, 10, 400)      721200      bidirectional_3[0][0]            \n",
      "__________________________________________________________________________________________________\n",
      "concatenate_5 (Concatenate)     (None, 10, 4300)     0           concatenate_4[0][0]              \n",
      "                                                                 bidirectional_1[0][0]            \n",
      "                                                                 bidirectional_2[0][0]            \n",
      "                                                                 bidirectional_3[0][0]            \n",
      "                                                                 bidirectional_4[0][0]            \n",
      "__________________________________________________________________________________________________\n",
      "dense_2 (Dense)                 (None, 10, 1000)     4301000     concatenate_5[0][0]              \n",
      "__________________________________________________________________________________________________\n",
      "dense_3 (Dense)                 (None, 10, 784)      784784      dense_2[0][0]                    \n",
      "__________________________________________________________________________________________________\n",
      "dropout_1 (Dropout)             (None, 10, 784)      0           dense_3[0][0]                    \n",
      "__________________________________________________________________________________________________\n",
      "dense_4 (Dense)                 (None, 10, 11)       8635        dropout_1[0][0]                  \n",
      "==================================================================================================\n",
      "Total params: 679,208,150\n",
      "Trainable params: 15,764,519\n",
      "Non-trainable params: 663,443,631\n",
      "__________________________________________________________________________________________________\n"
     ]
    }
   ],
   "source": [
    "\n",
    "def tile_tile(X):\n",
    "    X = K.tile(X, [1,10,1]) \n",
    "    return X\n",
    "\n",
    "\n",
    "def exp_smooth5(X):   \n",
    "    weight = np.power(0.5,9 - np.arange(10))\n",
    "    weight = weight/np.sum(weight)\n",
    "    weight = np.reshape(weight, (1,10,1))\n",
    "    att_output_weight = K.variable(weight)\n",
    "    print(att_output_weight.shape)\n",
    "    att_output_result = X*att_output_weight    \n",
    "    print(X.shape)\n",
    "    att_output_result = K.mean(att_output_result, axis=1)\n",
    "    \n",
    "    return att_output_result\n",
    "\n",
    "def exp_smooth8(X):   \n",
    "    weight = np.power(0.8,9 - np.arange(10))\n",
    "    weight = weight/np.sum(weight)\n",
    "    weight = np.reshape(weight, (1,10,1))\n",
    "    att_output_weight = K.variable(weight)\n",
    "    print(att_output_weight.shape)\n",
    "    att_output_result = X*att_output_weight    \n",
    "    print(X.shape)\n",
    "    att_output_result = K.mean(att_output_result, axis=1)\n",
    "    \n",
    "    return att_output_result\n",
    "\n",
    "\n",
    "class mstk_ndcg_callback(Callback):\n",
    "    def __init__(self):\n",
    "        return\n",
    "\n",
    "    def on_train_begin(self, logs={}):\n",
    "        return\n",
    "\n",
    "    def on_train_end(self, logs={}):\n",
    "        return\n",
    "\n",
    "    def on_epoch_begin(self, epoch, logs={}):\n",
    "        return\n",
    "\n",
    "    def on_epoch_end(self, epoch, logs={}):      \n",
    "\n",
    "        y_pred = self.model.predict(X_valid,batch_size=800)\n",
    "        \n",
    "        hkl.dump(y_pred, data_path+'y_pred.hkl', mode='w', compression='gzip')\n",
    "        \n",
    "        y_pred = y_pred[:,:,1]\n",
    "        \n",
    "        Y_valid_i = Y_valid[:,:,1]\n",
    "        \n",
    "        Y_pred = 0*y_pred\n",
    "        Y_pred[y_pred>=0.5] = 1\n",
    "        \n",
    "        Y_pred = (Y_pred==Y_valid_i)\n",
    "        \n",
    "        Y_pred = Y_pred[valid_output>=0]\n",
    "        \n",
    "        #print(Y_pred.shape)\n",
    "\n",
    "        print(np.mean(Y_pred))\n",
    "        \n",
    "        #hkl.dump(song_embedding_matrix, data_path+'song_embedding_matrix_80.hkl', mode='w', compression='gzip')\n",
    "\n",
    "        return\n",
    "\n",
    "    def on_batch_begin(self, batch, logs={}):\n",
    "        return\n",
    "\n",
    "    def on_batch_end(self, batch, logs={}):\n",
    "        return\n",
    "\n",
    "#K.clear_session()\n",
    "\n",
    "#spotify_song_array = np.ones((100,2))\n",
    "#input_fea_dim = 5\n",
    "#n_context_type = 4\n",
    "#n_reason_start = 3\n",
    "#n_reason_end = 3\n",
    "\n",
    "def skip_model_5_mtsk_att(cell_size = 350):\n",
    "\n",
    "    input_data_context_id = Input(shape=[10], name=\"context\")\n",
    "    input_data_start_id = Input(shape=[10], name=\"start\")\n",
    "    input_data_end_id = Input(shape=[10], name=\"end\")\n",
    "    input_data = Input(shape=[10,14], name=\"input_fea\")\n",
    "    output_data_i = Input(shape=[10], name=\"output_fea\")\n",
    "    input_id = Input(shape=[10], name=\"input_id\")\n",
    "    output_id = Input(shape=[10], name=\"output_id\")\n",
    "\n",
    "    song_emb_layer = Embedding(\n",
    "        input_dim=spotify_song_array.shape[0],\n",
    "        output_dim=spotify_song_array.shape[1],\n",
    "        weights=[spotify_song_array],\n",
    "        trainable=False\n",
    "    )\n",
    "\n",
    "    context_emb_layer = Embedding(n_context_type,25)\n",
    "    reason_start_emb_layer = Embedding(n_reason_start,25)\n",
    "    reason_end_emb_layer = Embedding(n_reason_end,25)\n",
    "\n",
    "    emb_input_id = song_emb_layer(input_id)\n",
    "    emb_output_id = song_emb_layer(output_id)\n",
    "    emb_input_data_context_id = context_emb_layer(input_data_context_id)\n",
    "    emb_input_data_start_id = reason_start_emb_layer(input_data_start_id)\n",
    "    emb_input_data_end_id = reason_end_emb_layer(input_data_end_id)\n",
    "\n",
    "    input_data_a = concatenate([input_data,emb_input_id,emb_input_data_context_id,\n",
    "                              emb_input_data_start_id,emb_input_data_end_id])\n",
    "\n",
    "    # rnn layers\n",
    "#    encoder_outputs, state_h\n",
    "    \n",
    "    encoder_outputs, rnn_layer = GRU(cell_size, return_sequences=True, return_state=True) (input_data_a)\n",
    "    \n",
    "    encoder_outputs_1, rnn_layer_1 = GRU(cell_size, return_sequences=True, return_state=True) (encoder_outputs)\n",
    "    \n",
    "    #rnn_layer_5 = Lambda(exp_smooth5)(encoder_outputs)    \n",
    "    #rnn_layer_8 = Lambda(exp_smooth8)(encoder_outputs)    \n",
    "#    print(encoder_outputs.shape)\n",
    "#    print(rnn_layer_5.shape)\n",
    "#    print(rnn_layer.shape)\n",
    "\n",
    "    \n",
    "    rnn_layer = concatenate([rnn_layer, rnn_layer_1])\n",
    "    \n",
    "    output_data = Reshape([10,1])(output_data_i)\n",
    "    \n",
    "    output_data = concatenate([output_data, emb_output_id])\n",
    "\n",
    "    output_data = Dense(2*cell_size, activation='relu')(output_data)\n",
    "\n",
    "    rnn_layer_multi = Multiply()([output_data, rnn_layer])\n",
    "    \n",
    "    rnn_layer_reshape = Reshape([1,2*cell_size])(rnn_layer)\n",
    "    \n",
    "    rnn_layer_reshape = Lambda(tile_tile)(rnn_layer_reshape)\n",
    "\n",
    "    output_result = concatenate([rnn_layer_reshape, rnn_layer_multi, output_data])\n",
    "    \n",
    "    output_rnn_layer = Bidirectional(GRU(cell_size, return_sequences=True))(output_result)\n",
    "    \n",
    "    output_rnn_layer_2 = Bidirectional(GRU(cell_size, return_sequences=True))(output_rnn_layer)\n",
    "    \n",
    "    output_rnn_layer_3 = Bidirectional(GRU(200, return_sequences=True))(output_rnn_layer_2)\n",
    "    \n",
    "    output_rnn_layer_4 = Bidirectional(GRU(200, return_sequences=True))(output_rnn_layer_3)\n",
    "    \n",
    "    output_result = concatenate([output_result, output_rnn_layer, output_rnn_layer_2, output_rnn_layer_3, output_rnn_layer_4])\n",
    "\n",
    "    output_result = Dense(1000, activation='relu')(output_result)\n",
    "    output_result_1 = Dense(784, activation='relu')(output_result)\n",
    "    #output_result_2 = Dense(784, activation='elu')(output_result_1)\n",
    "    \n",
    "    #output_result = concatenate([output_result, output_result_1, output_result_2])\n",
    "    \n",
    "    output_result = Dropout(0.2)(output_result_1)\n",
    "\n",
    "    output_result = Dense(11, activation='sigmoid')(output_result)\n",
    "    \n",
    "    #output_result = Reshape([10])(output_result)\n",
    "\n",
    "\n",
    "    model = Model(inputs=[input_data_context_id, input_data_start_id,\n",
    "                          input_data_end_id, input_data, output_data_i, input_id, output_id], outputs=output_result)\n",
    "\n",
    "    sgd = Adam(lr=0.0008)\n",
    "    model.compile(loss='binary_crossentropy',\n",
    "                  optimizer=sgd,\n",
    "                  metrics=['binary_crossentropy', 'binary_accuracy'])\n",
    "    model.summary()\n",
    "    return model\n",
    "\n",
    "model = skip_model_5_mtsk_att()\n",
    "\n",
    "model.load_weights('Data/skip_net_glove_max_mtsk_more_layer_best_v6.hdf5')"
   ]
  },
  {
   "cell_type": "code",
   "execution_count": 13,
   "metadata": {},
   "outputs": [
    {
     "name": "stderr",
     "output_type": "stream",
     "text": [
      "  0%|          | 0/66 [00:00<?, ?it/s]"
     ]
    },
    {
     "name": "stdout",
     "output_type": "stream",
     "text": [
      "444491/444491 [==============================] - 39s 87us/step\n",
      "0.44002214\n"
     ]
    },
    {
     "name": "stderr",
     "output_type": "stream",
     "text": [
      "  2%|▏         | 1/66 [00:57<1:02:14, 57.46s/it]"
     ]
    },
    {
     "name": "stdout",
     "output_type": "stream",
     "text": [
      "507659/507659 [==============================] - 43s 85us/step\n",
      "0.43218854\n"
     ]
    },
    {
     "name": "stderr",
     "output_type": "stream",
     "text": [
      "  3%|▎         | 2/66 [02:01<1:03:27, 59.49s/it]"
     ]
    },
    {
     "name": "stdout",
     "output_type": "stream",
     "text": [
      "506356/506356 [==============================] - 43s 85us/step\n",
      "0.4327949\n"
     ]
    },
    {
     "name": "stderr",
     "output_type": "stream",
     "text": [
      "  5%|▍         | 3/66 [03:05<1:03:44, 60.71s/it]"
     ]
    },
    {
     "name": "stdout",
     "output_type": "stream",
     "text": [
      "510915/510915 [==============================] - 43s 85us/step\n",
      "0.43287963\n"
     ]
    },
    {
     "name": "stderr",
     "output_type": "stream",
     "text": [
      "  6%|▌         | 4/66 [04:11<1:04:31, 62.44s/it]"
     ]
    },
    {
     "name": "stdout",
     "output_type": "stream",
     "text": [
      "512450/512450 [==============================] - 43s 85us/step\n",
      "0.43322402\n"
     ]
    },
    {
     "name": "stderr",
     "output_type": "stream",
     "text": [
      "  8%|▊         | 5/66 [05:16<1:04:09, 63.11s/it]"
     ]
    },
    {
     "name": "stdout",
     "output_type": "stream",
     "text": [
      "532932/532932 [==============================] - 45s 85us/step\n",
      "0.43368742\n"
     ]
    },
    {
     "name": "stderr",
     "output_type": "stream",
     "text": [
      "  9%|▉         | 6/66 [06:24<1:04:34, 64.58s/it]"
     ]
    },
    {
     "name": "stdout",
     "output_type": "stream",
     "text": [
      "478114/478114 [==============================] - 40s 85us/step\n",
      "0.43859154\n"
     ]
    },
    {
     "name": "stderr",
     "output_type": "stream",
     "text": [
      " 11%|█         | 7/66 [07:23<1:01:55, 62.97s/it]"
     ]
    },
    {
     "name": "stdout",
     "output_type": "stream",
     "text": [
      "429211/429211 [==============================] - 36s 85us/step\n",
      "0.43879136\n"
     ]
    },
    {
     "name": "stderr",
     "output_type": "stream",
     "text": [
      " 12%|█▏        | 8/66 [08:17<58:06, 60.11s/it]  "
     ]
    },
    {
     "name": "stdout",
     "output_type": "stream",
     "text": [
      "490746/490746 [==============================] - 42s 85us/step\n",
      "0.4313729\n"
     ]
    },
    {
     "name": "stderr",
     "output_type": "stream",
     "text": [
      " 14%|█▎        | 9/66 [09:18<57:23, 60.42s/it]"
     ]
    },
    {
     "name": "stdout",
     "output_type": "stream",
     "text": [
      "497941/497941 [==============================] - 42s 85us/step\n",
      "0.43316022\n"
     ]
    },
    {
     "name": "stderr",
     "output_type": "stream",
     "text": [
      " 15%|█▌        | 10/66 [10:20<56:56, 61.01s/it]"
     ]
    },
    {
     "name": "stdout",
     "output_type": "stream",
     "text": [
      "487264/487264 [==============================] - 41s 85us/step\n",
      "0.43220067\n"
     ]
    },
    {
     "name": "stderr",
     "output_type": "stream",
     "text": [
      " 17%|█▋        | 11/66 [11:21<56:00, 61.11s/it]"
     ]
    },
    {
     "name": "stdout",
     "output_type": "stream",
     "text": [
      "489827/489827 [==============================] - 42s 85us/step\n",
      "0.4341833\n"
     ]
    },
    {
     "name": "stderr",
     "output_type": "stream",
     "text": [
      " 18%|█▊        | 12/66 [12:22<54:53, 60.99s/it]"
     ]
    },
    {
     "name": "stdout",
     "output_type": "stream",
     "text": [
      "518693/518693 [==============================] - 46s 88us/step\n",
      "0.43377957\n"
     ]
    },
    {
     "name": "stderr",
     "output_type": "stream",
     "text": [
      " 20%|█▉        | 13/66 [13:29<55:32, 62.87s/it]"
     ]
    },
    {
     "name": "stdout",
     "output_type": "stream",
     "text": [
      "468347/468347 [==============================] - 40s 85us/step\n",
      "0.43867746\n"
     ]
    },
    {
     "name": "stderr",
     "output_type": "stream",
     "text": [
      " 21%|██        | 14/66 [14:27<53:10, 61.36s/it]"
     ]
    },
    {
     "name": "stdout",
     "output_type": "stream",
     "text": [
      "429159/429159 [==============================] - 36s 85us/step\n",
      "0.43831086\n"
     ]
    },
    {
     "name": "stderr",
     "output_type": "stream",
     "text": [
      " 23%|██▎       | 15/66 [15:23<50:42, 59.66s/it]"
     ]
    },
    {
     "name": "stdout",
     "output_type": "stream",
     "text": [
      "478687/478687 [==============================] - 41s 85us/step\n",
      "0.430574\n"
     ]
    },
    {
     "name": "stderr",
     "output_type": "stream",
     "text": [
      " 24%|██▍       | 16/66 [16:23<49:45, 59.71s/it]"
     ]
    },
    {
     "name": "stdout",
     "output_type": "stream",
     "text": [
      "484824/484824 [==============================] - 41s 85us/step\n",
      "0.43233278\n"
     ]
    },
    {
     "name": "stderr",
     "output_type": "stream",
     "text": [
      " 26%|██▌       | 17/66 [17:22<48:46, 59.72s/it]"
     ]
    },
    {
     "name": "stdout",
     "output_type": "stream",
     "text": [
      "477326/477326 [==============================] - 40s 85us/step\n",
      "0.433756\n"
     ]
    },
    {
     "name": "stderr",
     "output_type": "stream",
     "text": [
      " 27%|██▋       | 18/66 [18:23<47:58, 59.97s/it]"
     ]
    },
    {
     "name": "stdout",
     "output_type": "stream",
     "text": [
      "482224/482224 [==============================] - 41s 85us/step\n",
      "0.43377048\n"
     ]
    },
    {
     "name": "stderr",
     "output_type": "stream",
     "text": [
      " 29%|██▉       | 19/66 [19:24<47:11, 60.25s/it]"
     ]
    },
    {
     "name": "stdout",
     "output_type": "stream",
     "text": [
      "517439/517439 [==============================] - 44s 85us/step\n",
      "0.42657173\n"
     ]
    },
    {
     "name": "stderr",
     "output_type": "stream",
     "text": [
      " 30%|███       | 20/66 [20:28<47:06, 61.45s/it]"
     ]
    },
    {
     "name": "stdout",
     "output_type": "stream",
     "text": [
      "466241/466241 [==============================] - 39s 85us/step\n",
      "0.43192765\n"
     ]
    },
    {
     "name": "stderr",
     "output_type": "stream",
     "text": [
      " 32%|███▏      | 21/66 [21:26<45:12, 60.29s/it]"
     ]
    },
    {
     "name": "stdout",
     "output_type": "stream",
     "text": [
      "423473/423473 [==============================] - 36s 85us/step\n",
      "0.4344294\n"
     ]
    },
    {
     "name": "stderr",
     "output_type": "stream",
     "text": [
      " 33%|███▎      | 22/66 [22:20<42:53, 58.50s/it]"
     ]
    },
    {
     "name": "stdout",
     "output_type": "stream",
     "text": [
      "469934/469934 [==============================] - 40s 85us/step\n",
      "0.42771697\n"
     ]
    },
    {
     "name": "stderr",
     "output_type": "stream",
     "text": [
      " 35%|███▍      | 23/66 [23:18<41:45, 58.27s/it]"
     ]
    },
    {
     "name": "stdout",
     "output_type": "stream",
     "text": [
      "477227/477227 [==============================] - 40s 85us/step\n",
      "0.42782754\n"
     ]
    },
    {
     "name": "stderr",
     "output_type": "stream",
     "text": [
      " 36%|███▋      | 24/66 [24:16<40:50, 58.35s/it]"
     ]
    },
    {
     "name": "stdout",
     "output_type": "stream",
     "text": [
      "476149/476149 [==============================] - 40s 85us/step\n",
      "0.42835376\n"
     ]
    },
    {
     "name": "stderr",
     "output_type": "stream",
     "text": [
      " 38%|███▊      | 25/66 [25:16<40:02, 58.59s/it]"
     ]
    },
    {
     "name": "stdout",
     "output_type": "stream",
     "text": [
      "476458/476458 [==============================] - 40s 85us/step\n",
      "0.43050024\n"
     ]
    },
    {
     "name": "stderr",
     "output_type": "stream",
     "text": [
      " 39%|███▉      | 26/66 [26:14<39:01, 58.54s/it]"
     ]
    },
    {
     "name": "stdout",
     "output_type": "stream",
     "text": [
      "512854/512854 [==============================] - 43s 85us/step\n",
      "0.42787883\n"
     ]
    },
    {
     "name": "stderr",
     "output_type": "stream",
     "text": [
      " 41%|████      | 27/66 [27:17<38:58, 59.96s/it]"
     ]
    },
    {
     "name": "stdout",
     "output_type": "stream",
     "text": [
      "463235/463235 [==============================] - 39s 85us/step\n",
      "0.4330866\n"
     ]
    },
    {
     "name": "stderr",
     "output_type": "stream",
     "text": [
      " 42%|████▏     | 28/66 [28:14<37:24, 59.06s/it]"
     ]
    },
    {
     "name": "stdout",
     "output_type": "stream",
     "text": [
      "421242/421242 [==============================] - 37s 89us/step\n",
      "0.43403924\n"
     ]
    },
    {
     "name": "stderr",
     "output_type": "stream",
     "text": [
      " 44%|████▍     | 29/66 [29:09<35:37, 57.76s/it]"
     ]
    },
    {
     "name": "stdout",
     "output_type": "stream",
     "text": [
      "465915/465915 [==============================] - 39s 84us/step\n",
      "0.4259931\n"
     ]
    },
    {
     "name": "stderr",
     "output_type": "stream",
     "text": [
      " 45%|████▌     | 30/66 [30:07<34:48, 58.00s/it]"
     ]
    },
    {
     "name": "stdout",
     "output_type": "stream",
     "text": [
      "472562/472562 [==============================] - 40s 85us/step\n",
      "0.4260244\n"
     ]
    },
    {
     "name": "stderr",
     "output_type": "stream",
     "text": [
      " 47%|████▋     | 31/66 [31:05<33:48, 57.97s/it]"
     ]
    },
    {
     "name": "stdout",
     "output_type": "stream",
     "text": [
      "469783/469783 [==============================] - 40s 85us/step\n",
      "0.4259981\n"
     ]
    },
    {
     "name": "stderr",
     "output_type": "stream",
     "text": [
      " 48%|████▊     | 32/66 [32:04<33:01, 58.29s/it]"
     ]
    },
    {
     "name": "stdout",
     "output_type": "stream",
     "text": [
      "486310/486310 [==============================] - 41s 84us/step\n",
      "0.42660284\n"
     ]
    },
    {
     "name": "stderr",
     "output_type": "stream",
     "text": [
      " 50%|█████     | 33/66 [33:04<32:15, 58.65s/it]"
     ]
    },
    {
     "name": "stdout",
     "output_type": "stream",
     "text": [
      "527072/527072 [==============================] - 45s 85us/step\n",
      "0.42098504\n"
     ]
    },
    {
     "name": "stderr",
     "output_type": "stream",
     "text": [
      " 52%|█████▏    | 34/66 [34:09<32:18, 60.58s/it]"
     ]
    },
    {
     "name": "stdout",
     "output_type": "stream",
     "text": [
      "469439/469439 [==============================] - 40s 85us/step\n",
      "0.42811915\n"
     ]
    },
    {
     "name": "stderr",
     "output_type": "stream",
     "text": [
      " 53%|█████▎    | 35/66 [35:07<30:53, 59.79s/it]"
     ]
    },
    {
     "name": "stdout",
     "output_type": "stream",
     "text": [
      "423489/423489 [==============================] - 36s 85us/step\n",
      "0.4305873\n"
     ]
    },
    {
     "name": "stderr",
     "output_type": "stream",
     "text": [
      " 55%|█████▍    | 36/66 [36:00<28:52, 57.75s/it]"
     ]
    },
    {
     "name": "stdout",
     "output_type": "stream",
     "text": [
      "474478/474478 [==============================] - 40s 85us/step\n",
      "0.42187864\n"
     ]
    },
    {
     "name": "stderr",
     "output_type": "stream",
     "text": [
      " 56%|█████▌    | 37/66 [36:58<28:01, 57.97s/it]"
     ]
    },
    {
     "name": "stdout",
     "output_type": "stream",
     "text": [
      "482627/482627 [==============================] - 41s 85us/step\n",
      "0.4226171\n"
     ]
    },
    {
     "name": "stderr",
     "output_type": "stream",
     "text": [
      " 58%|█████▊    | 38/66 [37:58<27:13, 58.33s/it]"
     ]
    },
    {
     "name": "stdout",
     "output_type": "stream",
     "text": [
      "481075/481075 [==============================] - 41s 85us/step\n",
      "0.42467275\n"
     ]
    },
    {
     "name": "stderr",
     "output_type": "stream",
     "text": [
      " 59%|█████▉    | 39/66 [38:57<26:22, 58.63s/it]"
     ]
    },
    {
     "name": "stdout",
     "output_type": "stream",
     "text": [
      "480702/480702 [==============================] - 41s 85us/step\n",
      "0.427245\n"
     ]
    },
    {
     "name": "stderr",
     "output_type": "stream",
     "text": [
      " 61%|██████    | 40/66 [39:56<25:27, 58.75s/it]"
     ]
    },
    {
     "name": "stdout",
     "output_type": "stream",
     "text": [
      "517793/517793 [==============================] - 44s 85us/step\n",
      "0.42605376\n"
     ]
    },
    {
     "name": "stderr",
     "output_type": "stream",
     "text": [
      " 62%|██████▏   | 41/66 [41:00<25:10, 60.43s/it]"
     ]
    },
    {
     "name": "stdout",
     "output_type": "stream",
     "text": [
      "456146/456146 [==============================] - 39s 85us/step\n",
      "0.42896134\n"
     ]
    },
    {
     "name": "stderr",
     "output_type": "stream",
     "text": [
      " 64%|██████▎   | 42/66 [41:58<23:48, 59.53s/it]"
     ]
    },
    {
     "name": "stdout",
     "output_type": "stream",
     "text": [
      "415265/415265 [==============================] - 35s 85us/step\n",
      "0.43085596\n"
     ]
    },
    {
     "name": "stderr",
     "output_type": "stream",
     "text": [
      " 65%|██████▌   | 43/66 [42:49<21:49, 56.94s/it]"
     ]
    },
    {
     "name": "stdout",
     "output_type": "stream",
     "text": [
      "467983/467983 [==============================] - 40s 85us/step\n",
      "0.42260572\n"
     ]
    },
    {
     "name": "stderr",
     "output_type": "stream",
     "text": [
      " 67%|██████▋   | 44/66 [43:46<20:58, 57.19s/it]"
     ]
    },
    {
     "name": "stdout",
     "output_type": "stream",
     "text": [
      "473574/473574 [==============================] - 42s 88us/step\n",
      "0.4238078\n"
     ]
    },
    {
     "name": "stderr",
     "output_type": "stream",
     "text": [
      " 68%|██████▊   | 45/66 [44:46<20:19, 58.07s/it]"
     ]
    },
    {
     "name": "stdout",
     "output_type": "stream",
     "text": [
      "475235/475235 [==============================] - 40s 85us/step\n",
      "0.42434216\n"
     ]
    },
    {
     "name": "stderr",
     "output_type": "stream",
     "text": [
      " 70%|██████▉   | 46/66 [45:45<19:23, 58.18s/it]"
     ]
    },
    {
     "name": "stdout",
     "output_type": "stream",
     "text": [
      "480187/480187 [==============================] - 41s 85us/step\n",
      "0.4261224\n"
     ]
    },
    {
     "name": "stderr",
     "output_type": "stream",
     "text": [
      " 71%|███████   | 47/66 [46:44<18:29, 58.38s/it]"
     ]
    },
    {
     "name": "stdout",
     "output_type": "stream",
     "text": [
      "538596/538596 [==============================] - 46s 85us/step\n",
      "0.4216032\n"
     ]
    },
    {
     "name": "stderr",
     "output_type": "stream",
     "text": [
      " 73%|███████▎  | 48/66 [47:51<18:18, 61.00s/it]"
     ]
    },
    {
     "name": "stdout",
     "output_type": "stream",
     "text": [
      "457912/457912 [==============================] - 39s 85us/step\n",
      "0.4270565\n"
     ]
    },
    {
     "name": "stderr",
     "output_type": "stream",
     "text": [
      " 74%|███████▍  | 49/66 [48:47<16:52, 59.56s/it]"
     ]
    },
    {
     "name": "stdout",
     "output_type": "stream",
     "text": [
      "409458/409458 [==============================] - 35s 85us/step\n",
      "0.42844704\n"
     ]
    },
    {
     "name": "stderr",
     "output_type": "stream",
     "text": [
      " 76%|███████▌  | 50/66 [49:37<15:08, 56.77s/it]"
     ]
    },
    {
     "name": "stdout",
     "output_type": "stream",
     "text": [
      "422739/422739 [==============================] - 36s 84us/step\n",
      "0.42667997\n"
     ]
    },
    {
     "name": "stderr",
     "output_type": "stream",
     "text": [
      " 77%|███████▋  | 51/66 [50:30<13:53, 55.56s/it]"
     ]
    },
    {
     "name": "stdout",
     "output_type": "stream",
     "text": [
      "475542/475542 [==============================] - 40s 85us/step\n",
      "0.4242631\n"
     ]
    },
    {
     "name": "stderr",
     "output_type": "stream",
     "text": [
      " 79%|███████▉  | 52/66 [51:28<13:08, 56.34s/it]"
     ]
    },
    {
     "name": "stdout",
     "output_type": "stream",
     "text": [
      "480509/480509 [==============================] - 41s 84us/step\n",
      "0.4264014\n"
     ]
    },
    {
     "name": "stderr",
     "output_type": "stream",
     "text": [
      " 80%|████████  | 53/66 [52:27<12:21, 57.03s/it]"
     ]
    },
    {
     "name": "stdout",
     "output_type": "stream",
     "text": [
      "486915/486915 [==============================] - 41s 85us/step\n",
      "0.42801216\n"
     ]
    },
    {
     "name": "stderr",
     "output_type": "stream",
     "text": [
      " 82%|████████▏ | 54/66 [53:27<11:34, 57.84s/it]"
     ]
    },
    {
     "name": "stdout",
     "output_type": "stream",
     "text": [
      "504077/504077 [==============================] - 43s 85us/step\n",
      "0.42689416\n"
     ]
    },
    {
     "name": "stderr",
     "output_type": "stream",
     "text": [
      " 83%|████████▎ | 55/66 [54:29<10:49, 59.06s/it]"
     ]
    },
    {
     "name": "stdout",
     "output_type": "stream",
     "text": [
      "433036/433036 [==============================] - 37s 85us/step\n",
      "0.43077657\n"
     ]
    },
    {
     "name": "stderr",
     "output_type": "stream",
     "text": [
      " 85%|████████▍ | 56/66 [55:22<09:32, 57.28s/it]"
     ]
    },
    {
     "name": "stdout",
     "output_type": "stream",
     "text": [
      "388704/388704 [==============================] - 33s 85us/step\n",
      "0.43146083\n"
     ]
    },
    {
     "name": "stderr",
     "output_type": "stream",
     "text": [
      " 86%|████████▋ | 57/66 [56:10<08:10, 54.48s/it]"
     ]
    },
    {
     "name": "stdout",
     "output_type": "stream",
     "text": [
      "468099/468099 [==============================] - 40s 85us/step\n",
      "0.42365938\n"
     ]
    },
    {
     "name": "stderr",
     "output_type": "stream",
     "text": [
      " 88%|████████▊ | 58/66 [57:08<07:24, 55.59s/it]"
     ]
    },
    {
     "name": "stdout",
     "output_type": "stream",
     "text": [
      "470606/470606 [==============================] - 40s 85us/step\n",
      "0.4249627\n"
     ]
    },
    {
     "name": "stderr",
     "output_type": "stream",
     "text": [
      " 89%|████████▉ | 59/66 [58:06<06:33, 56.27s/it]"
     ]
    },
    {
     "name": "stdout",
     "output_type": "stream",
     "text": [
      "480517/480517 [==============================] - 41s 85us/step\n",
      "0.42631888\n"
     ]
    },
    {
     "name": "stderr",
     "output_type": "stream",
     "text": [
      " 91%|█████████ | 60/66 [59:05<05:43, 57.28s/it]"
     ]
    },
    {
     "name": "stdout",
     "output_type": "stream",
     "text": [
      "483374/483374 [==============================] - 41s 85us/step\n",
      "0.42677882\n"
     ]
    },
    {
     "name": "stderr",
     "output_type": "stream",
     "text": [
      " 92%|█████████▏| 61/66 [1:00:05<04:50, 58.13s/it]"
     ]
    },
    {
     "name": "stdout",
     "output_type": "stream",
     "text": [
      "514731/514731 [==============================] - 44s 85us/step\n",
      "0.42565486\n"
     ]
    },
    {
     "name": "stderr",
     "output_type": "stream",
     "text": [
      " 94%|█████████▍| 62/66 [1:01:12<04:02, 60.58s/it]"
     ]
    },
    {
     "name": "stdout",
     "output_type": "stream",
     "text": [
      "440830/440830 [==============================] - 37s 85us/step\n",
      "0.4297823\n"
     ]
    },
    {
     "name": "stderr",
     "output_type": "stream",
     "text": [
      " 95%|█████████▌| 63/66 [1:02:06<02:56, 58.70s/it]"
     ]
    },
    {
     "name": "stdout",
     "output_type": "stream",
     "text": [
      "388782/388782 [==============================] - 33s 85us/step\n",
      "0.4310663\n"
     ]
    },
    {
     "name": "stderr",
     "output_type": "stream",
     "text": [
      " 97%|█████████▋| 64/66 [1:02:54<01:50, 55.43s/it]"
     ]
    },
    {
     "name": "stdout",
     "output_type": "stream",
     "text": [
      "472120/472120 [==============================] - 40s 84us/step\n",
      "0.4234032\n"
     ]
    },
    {
     "name": "stderr",
     "output_type": "stream",
     "text": [
      " 98%|█████████▊| 65/66 [1:03:52<00:56, 56.12s/it]"
     ]
    },
    {
     "name": "stdout",
     "output_type": "stream",
     "text": [
      "483798/483798 [==============================] - 41s 85us/step\n",
      "0.4241605\n"
     ]
    },
    {
     "name": "stderr",
     "output_type": "stream",
     "text": [
      "100%|██████████| 66/66 [1:04:51<00:00, 57.17s/it]\n"
     ]
    }
   ],
   "source": [
    "for item in tqdm(test_files):\n",
    "    preddf = pd.read_parquet(item)\n",
    "    \n",
    "    prehistdf = pd.read_parquet(test_data_path + 'prehist_' + item[15:])   \n",
    "    \n",
    "    cols = ['session_id', 'session_position', 'session_length', 'track_id_clean']\n",
    "    \n",
    "    preddf = preddf[cols]    \n",
    "    \n",
    "    input_data, input_data_context_id, input_data_start_id, input_data_end_id,input_data_id = TestPreHistSessionCate(prehistdf)\n",
    "    \n",
    "    output_data, output_data_id = TestPredProcessSessionCate(preddf)\n",
    "    \n",
    "    X_test = {\n",
    "       'context': input_data_context_id,\n",
    "        'start': input_data_start_id,\n",
    "        'end': input_data_end_id,\n",
    "        'input_fea': input_data,\n",
    "         'output_fea': output_data,\n",
    "        'input_id': input_data_id,\n",
    "        'output_id': output_data_id,\n",
    "        }\n",
    "    \n",
    "    y_pred = model.predict(X_test,batch_size=1500,verbose=1)\n",
    "    y_pred = y_pred[:,:,1]\n",
    "    \n",
    "    print(np.mean(y_pred))\n",
    "        \n",
    "    hkl.dump(y_pred, data_path+item[15:23]+'_y_pred_mtsk_larger_v6.hkl', mode='w', compression='gzip')"
   ]
  },
  {
   "cell_type": "code",
   "execution_count": 12,
   "metadata": {},
   "outputs": [
    {
     "name": "stdout",
     "output_type": "stream",
     "text": [
      "__________________________________________________________________________________________________\n",
      "Layer (type)                    Output Shape         Param #     Connected to                     \n",
      "==================================================================================================\n",
      "input_id (InputLayer)           (None, 10)           0                                            \n",
      "__________________________________________________________________________________________________\n",
      "context (InputLayer)            (None, 10)           0                                            \n",
      "__________________________________________________________________________________________________\n",
      "start (InputLayer)              (None, 10)           0                                            \n",
      "__________________________________________________________________________________________________\n",
      "end (InputLayer)                (None, 10)           0                                            \n",
      "__________________________________________________________________________________________________\n",
      "input_fea (InputLayer)          (None, 10, 14)       0                                            \n",
      "__________________________________________________________________________________________________\n",
      "embedding_1 (Embedding)         (None, 10, 179)      663443631   input_id[0][0]                   \n",
      "                                                                 output_id[0][0]                  \n",
      "__________________________________________________________________________________________________\n",
      "embedding_2 (Embedding)         (None, 10, 25)       175         context[0][0]                    \n",
      "__________________________________________________________________________________________________\n",
      "embedding_3 (Embedding)         (None, 10, 25)       325         start[0][0]                      \n",
      "__________________________________________________________________________________________________\n",
      "embedding_4 (Embedding)         (None, 10, 25)       300         end[0][0]                        \n",
      "__________________________________________________________________________________________________\n",
      "concatenate_1 (Concatenate)     (None, 10, 268)      0           input_fea[0][0]                  \n",
      "                                                                 embedding_1[0][0]                \n",
      "                                                                 embedding_2[0][0]                \n",
      "                                                                 embedding_3[0][0]                \n",
      "                                                                 embedding_4[0][0]                \n",
      "__________________________________________________________________________________________________\n",
      "gru_1 (GRU)                     [(None, 10, 350), (N 649950      concatenate_1[0][0]              \n",
      "__________________________________________________________________________________________________\n",
      "output_fea (InputLayer)         (None, 10)           0                                            \n",
      "__________________________________________________________________________________________________\n",
      "output_id (InputLayer)          (None, 10)           0                                            \n",
      "__________________________________________________________________________________________________\n",
      "gru_2 (GRU)                     [(None, 10, 350), (N 736050      gru_1[0][0]                      \n",
      "__________________________________________________________________________________________________\n",
      "reshape_1 (Reshape)             (None, 10, 1)        0           output_fea[0][0]                 \n",
      "__________________________________________________________________________________________________\n",
      "concatenate_2 (Concatenate)     (None, 700)          0           gru_1[0][1]                      \n",
      "                                                                 gru_2[0][1]                      \n",
      "__________________________________________________________________________________________________\n",
      "concatenate_3 (Concatenate)     (None, 10, 180)      0           reshape_1[0][0]                  \n",
      "                                                                 embedding_1[1][0]                \n",
      "__________________________________________________________________________________________________\n",
      "reshape_2 (Reshape)             (None, 1, 700)       0           concatenate_2[0][0]              \n",
      "__________________________________________________________________________________________________\n",
      "dense_1 (Dense)                 (None, 10, 700)      126700      concatenate_3[0][0]              \n",
      "__________________________________________________________________________________________________\n",
      "lambda_1 (Lambda)               (None, 10, 700)      0           reshape_2[0][0]                  \n",
      "__________________________________________________________________________________________________\n",
      "multiply_1 (Multiply)           (None, 10, 700)      0           dense_1[0][0]                    \n",
      "                                                                 concatenate_2[0][0]              \n",
      "__________________________________________________________________________________________________\n",
      "concatenate_4 (Concatenate)     (None, 10, 2100)     0           lambda_1[0][0]                   \n",
      "                                                                 multiply_1[0][0]                 \n",
      "                                                                 dense_1[0][0]                    \n",
      "__________________________________________________________________________________________________\n",
      "bidirectional_1 (Bidirectional) (None, 10, 700)      5147100     concatenate_4[0][0]              \n",
      "__________________________________________________________________________________________________\n",
      "bidirectional_2 (Bidirectional) (None, 10, 700)      2207100     bidirectional_1[0][0]            \n",
      "__________________________________________________________________________________________________\n",
      "bidirectional_3 (Bidirectional) (None, 10, 400)      1081200     bidirectional_2[0][0]            \n",
      "__________________________________________________________________________________________________\n",
      "bidirectional_4 (Bidirectional) (None, 10, 400)      721200      bidirectional_3[0][0]            \n",
      "__________________________________________________________________________________________________\n",
      "concatenate_5 (Concatenate)     (None, 10, 4300)     0           concatenate_4[0][0]              \n",
      "                                                                 bidirectional_1[0][0]            \n",
      "                                                                 bidirectional_2[0][0]            \n",
      "                                                                 bidirectional_3[0][0]            \n",
      "                                                                 bidirectional_4[0][0]            \n",
      "__________________________________________________________________________________________________\n",
      "dense_2 (Dense)                 (None, 10, 1000)     4301000     concatenate_5[0][0]              \n",
      "__________________________________________________________________________________________________\n",
      "dense_3 (Dense)                 (None, 10, 784)      784784      dense_2[0][0]                    \n",
      "__________________________________________________________________________________________________\n",
      "dropout_1 (Dropout)             (None, 10, 784)      0           dense_3[0][0]                    \n",
      "__________________________________________________________________________________________________\n",
      "dense_4 (Dense)                 (None, 10, 11)       8635        dropout_1[0][0]                  \n",
      "==================================================================================================\n",
      "Total params: 679,208,150\n",
      "Trainable params: 15,764,519\n",
      "Non-trainable params: 663,443,631\n",
      "__________________________________________________________________________________________________\n"
     ]
    }
   ],
   "source": [
    "'''\n",
    "\n",
    "\n",
    "def tile_tile(X):\n",
    "    X = K.tile(X, [1,10,1]) \n",
    "    return X\n",
    "\n",
    "\n",
    "def exp_smooth5(X):   \n",
    "    weight = np.power(0.5,9 - np.arange(10))\n",
    "    weight = weight/np.sum(weight)\n",
    "    weight = np.reshape(weight, (1,10,1))\n",
    "    att_output_weight = K.variable(weight)\n",
    "    print(att_output_weight.shape)\n",
    "    att_output_result = X*att_output_weight    \n",
    "    print(X.shape)\n",
    "    att_output_result = K.mean(att_output_result, axis=1)\n",
    "    \n",
    "    return att_output_result\n",
    "\n",
    "def exp_smooth8(X):   \n",
    "    weight = np.power(0.8,9 - np.arange(10))\n",
    "    weight = weight/np.sum(weight)\n",
    "    weight = np.reshape(weight, (1,10,1))\n",
    "    att_output_weight = K.variable(weight)\n",
    "    print(att_output_weight.shape)\n",
    "    att_output_result = X*att_output_weight    \n",
    "    print(X.shape)\n",
    "    att_output_result = K.mean(att_output_result, axis=1)\n",
    "    \n",
    "    return att_output_result\n",
    "\n",
    "\n",
    "class mstk_ndcg_callback(Callback):\n",
    "    def __init__(self):\n",
    "        return\n",
    "\n",
    "    def on_train_begin(self, logs={}):\n",
    "        return\n",
    "\n",
    "    def on_train_end(self, logs={}):\n",
    "        return\n",
    "\n",
    "    def on_epoch_begin(self, epoch, logs={}):\n",
    "        return\n",
    "\n",
    "    def on_epoch_end(self, epoch, logs={}):      \n",
    "\n",
    "        y_pred = self.model.predict(X_valid,batch_size=800)\n",
    "        \n",
    "        hkl.dump(y_pred, data_path+'y_pred.hkl', mode='w', compression='gzip')\n",
    "        \n",
    "        y_pred = y_pred[:,:,1]\n",
    "        \n",
    "        Y_valid_i = Y_valid[:,:,1]\n",
    "        \n",
    "        Y_pred = 0*y_pred\n",
    "        Y_pred[y_pred>=0.5] = 1\n",
    "        \n",
    "        Y_pred = (Y_pred==Y_valid_i)\n",
    "        \n",
    "        Y_pred = Y_pred[valid_output>=0]\n",
    "        \n",
    "        #print(Y_pred.shape)\n",
    "\n",
    "        print(np.mean(Y_pred))\n",
    "        \n",
    "        #hkl.dump(song_embedding_matrix, data_path+'song_embedding_matrix_80.hkl', mode='w', compression='gzip')\n",
    "\n",
    "        return\n",
    "\n",
    "    def on_batch_begin(self, batch, logs={}):\n",
    "        return\n",
    "\n",
    "    def on_batch_end(self, batch, logs={}):\n",
    "        return\n",
    "\n",
    "#K.clear_session()\n",
    "\n",
    "#spotify_song_array = np.ones((100,2))\n",
    "#input_fea_dim = 5\n",
    "#n_context_type = 4\n",
    "#n_reason_start = 3\n",
    "#n_reason_end = 3\n",
    "\n",
    "def skip_model_5_mtsk_att(cell_size = 350):\n",
    "\n",
    "    input_data_context_id = Input(shape=[10], name=\"context\")\n",
    "    input_data_start_id = Input(shape=[10], name=\"start\")\n",
    "    input_data_end_id = Input(shape=[10], name=\"end\")\n",
    "    input_data = Input(shape=[10,14], name=\"input_fea\")\n",
    "    output_data_i = Input(shape=[10], name=\"output_fea\")\n",
    "    input_id = Input(shape=[10], name=\"input_id\")\n",
    "    output_id = Input(shape=[10], name=\"output_id\")\n",
    "\n",
    "    song_emb_layer = Embedding(\n",
    "        input_dim=spotify_song_array.shape[0],\n",
    "        output_dim=spotify_song_array.shape[1],\n",
    "        weights=[spotify_song_array],\n",
    "        trainable=False\n",
    "    )\n",
    "\n",
    "    context_emb_layer = Embedding(n_context_type,25)\n",
    "    reason_start_emb_layer = Embedding(n_reason_start,25)\n",
    "    reason_end_emb_layer = Embedding(n_reason_end,25)\n",
    "\n",
    "    emb_input_id = song_emb_layer(input_id)\n",
    "    emb_output_id = song_emb_layer(output_id)\n",
    "    emb_input_data_context_id = context_emb_layer(input_data_context_id)\n",
    "    emb_input_data_start_id = reason_start_emb_layer(input_data_start_id)\n",
    "    emb_input_data_end_id = reason_end_emb_layer(input_data_end_id)\n",
    "\n",
    "    input_data_a = concatenate([input_data,emb_input_id,emb_input_data_context_id,\n",
    "                              emb_input_data_start_id,emb_input_data_end_id])\n",
    "\n",
    "    # rnn layers\n",
    "#    encoder_outputs, state_h\n",
    "    \n",
    "    encoder_outputs, rnn_layer = GRU(cell_size, return_sequences=True, return_state=True) (input_data_a)\n",
    "    \n",
    "    encoder_outputs_1, rnn_layer_1 = GRU(cell_size, return_sequences=True, return_state=True) (encoder_outputs)\n",
    "    \n",
    "    #rnn_layer_5 = Lambda(exp_smooth5)(encoder_outputs)    \n",
    "    #rnn_layer_8 = Lambda(exp_smooth8)(encoder_outputs)    \n",
    "#    print(encoder_outputs.shape)\n",
    "#    print(rnn_layer_5.shape)\n",
    "#    print(rnn_layer.shape)\n",
    "\n",
    "    \n",
    "    rnn_layer = concatenate([rnn_layer, rnn_layer_1])\n",
    "    \n",
    "    output_data = Reshape([10,1])(output_data_i)\n",
    "    \n",
    "    output_data = concatenate([output_data, emb_output_id])\n",
    "\n",
    "    output_data = Dense(2*cell_size, activation='relu')(output_data)\n",
    "\n",
    "    rnn_layer_multi = Multiply()([output_data, rnn_layer])\n",
    "    \n",
    "    rnn_layer_reshape = Reshape([1,2*cell_size])(rnn_layer)\n",
    "    \n",
    "    rnn_layer_reshape = Lambda(tile_tile)(rnn_layer_reshape)\n",
    "\n",
    "    output_result = concatenate([rnn_layer_reshape, rnn_layer_multi, output_data])\n",
    "    \n",
    "    output_rnn_layer = Bidirectional(GRU(cell_size, return_sequences=True))(output_result)\n",
    "    \n",
    "    output_rnn_layer_2 = Bidirectional(GRU(cell_size, return_sequences=True))(output_rnn_layer)\n",
    "    \n",
    "    output_rnn_layer_3 = Bidirectional(GRU(200, return_sequences=True))(output_rnn_layer_2)\n",
    "    \n",
    "    output_rnn_layer_4 = Bidirectional(GRU(200, return_sequences=True))(output_rnn_layer_3)\n",
    "    \n",
    "    output_result = concatenate([output_result, output_rnn_layer, output_rnn_layer_2, output_rnn_layer_3, output_rnn_layer_4])\n",
    "\n",
    "    output_result = Dense(1000, activation='relu')(output_result)\n",
    "    output_result_1 = Dense(784, activation='relu')(output_result)\n",
    "    #output_result_2 = Dense(784, activation='elu')(output_result_1)\n",
    "    \n",
    "    #output_result = concatenate([output_result, output_result_1, output_result_2])\n",
    "    \n",
    "    output_result = Dropout(0.2)(output_result_1)\n",
    "\n",
    "    output_result = Dense(11, activation='sigmoid')(output_result)\n",
    "    \n",
    "    #output_result = Reshape([10])(output_result)\n",
    "\n",
    "\n",
    "    model = Model(inputs=[input_data_context_id, input_data_start_id,\n",
    "                          input_data_end_id, input_data, output_data_i, input_id, output_id], outputs=output_result)\n",
    "\n",
    "    sgd = Adam(lr=0.0008)\n",
    "    model.compile(loss='binary_crossentropy',\n",
    "                  optimizer=sgd,\n",
    "                  metrics=['binary_crossentropy', 'binary_accuracy'])\n",
    "    model.summary()\n",
    "    return model\n",
    "\n",
    "model = skip_model_5_mtsk_att()\n",
    "\n",
    "model.load_weights('Data/skip_net_glove_max_mtsk_more_layer_best_v6.hdf5')\n",
    "\n",
    "'''"
   ]
  },
  {
   "cell_type": "code",
   "execution_count": 16,
   "metadata": {},
   "outputs": [
    {
     "data": {
      "text/plain": [
       "12"
      ]
     },
     "execution_count": 16,
     "metadata": {},
     "output_type": "execute_result"
    }
   ],
   "source": [
    "n_reason_end"
   ]
  },
  {
   "cell_type": "code",
   "execution_count": null,
   "metadata": {},
   "outputs": [],
   "source": []
  }
 ],
 "metadata": {
  "kernelspec": {
   "display_name": "Python 3",
   "language": "python",
   "name": "python3"
  },
  "language_info": {
   "codemirror_mode": {
    "name": "ipython",
    "version": 3
   },
   "file_extension": ".py",
   "mimetype": "text/x-python",
   "name": "python",
   "nbconvert_exporter": "python",
   "pygments_lexer": "ipython3",
   "version": "3.6.6"
  }
 },
 "nbformat": 4,
 "nbformat_minor": 2
}
