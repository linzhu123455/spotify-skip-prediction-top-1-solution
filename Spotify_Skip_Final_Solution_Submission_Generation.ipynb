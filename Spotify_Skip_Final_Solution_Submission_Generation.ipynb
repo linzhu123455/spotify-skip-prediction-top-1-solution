{
 "cells": [
  {
   "cell_type": "code",
   "execution_count": 3,
   "metadata": {},
   "outputs": [],
   "source": [
    "import numpy as np\n",
    "import pandas as pd\n",
    "import gc\n",
    "import os\n",
    "import glob\n",
    "import hickle as hkl\n",
    "from tqdm import tqdm\n",
    "\n",
    "test_data_path = 'test_pred/'\n",
    "\n",
    "data_path = 'Skip_Data/'\n",
    "\n",
    "test_files = glob.glob(test_data_path + 'pred_*.parquet')\n",
    "len(test_files)\n",
    "test_files = list(np.sort(test_files))"
   ]
  },
  {
   "cell_type": "code",
   "execution_count": 6,
   "metadata": {},
   "outputs": [
    {
     "data": {
      "text/plain": [
       "['test_pred/pred_20180715.parquet',\n",
       " 'test_pred/pred_20180716.parquet',\n",
       " 'test_pred/pred_20180717.parquet',\n",
       " 'test_pred/pred_20180718.parquet',\n",
       " 'test_pred/pred_20180719.parquet',\n",
       " 'test_pred/pred_20180720.parquet',\n",
       " 'test_pred/pred_20180721.parquet',\n",
       " 'test_pred/pred_20180722.parquet',\n",
       " 'test_pred/pred_20180723.parquet',\n",
       " 'test_pred/pred_20180724.parquet',\n",
       " 'test_pred/pred_20180725.parquet',\n",
       " 'test_pred/pred_20180726.parquet',\n",
       " 'test_pred/pred_20180727.parquet',\n",
       " 'test_pred/pred_20180728.parquet',\n",
       " 'test_pred/pred_20180729.parquet',\n",
       " 'test_pred/pred_20180730.parquet',\n",
       " 'test_pred/pred_20180731.parquet',\n",
       " 'test_pred/pred_20180801.parquet',\n",
       " 'test_pred/pred_20180802.parquet',\n",
       " 'test_pred/pred_20180803.parquet',\n",
       " 'test_pred/pred_20180804.parquet',\n",
       " 'test_pred/pred_20180805.parquet',\n",
       " 'test_pred/pred_20180806.parquet',\n",
       " 'test_pred/pred_20180807.parquet',\n",
       " 'test_pred/pred_20180808.parquet',\n",
       " 'test_pred/pred_20180809.parquet',\n",
       " 'test_pred/pred_20180810.parquet',\n",
       " 'test_pred/pred_20180811.parquet',\n",
       " 'test_pred/pred_20180812.parquet',\n",
       " 'test_pred/pred_20180813.parquet',\n",
       " 'test_pred/pred_20180814.parquet',\n",
       " 'test_pred/pred_20180815.parquet',\n",
       " 'test_pred/pred_20180816.parquet',\n",
       " 'test_pred/pred_20180817.parquet',\n",
       " 'test_pred/pred_20180818.parquet',\n",
       " 'test_pred/pred_20180819.parquet',\n",
       " 'test_pred/pred_20180820.parquet',\n",
       " 'test_pred/pred_20180821.parquet',\n",
       " 'test_pred/pred_20180822.parquet',\n",
       " 'test_pred/pred_20180823.parquet',\n",
       " 'test_pred/pred_20180824.parquet',\n",
       " 'test_pred/pred_20180825.parquet',\n",
       " 'test_pred/pred_20180826.parquet',\n",
       " 'test_pred/pred_20180827.parquet',\n",
       " 'test_pred/pred_20180828.parquet',\n",
       " 'test_pred/pred_20180829.parquet',\n",
       " 'test_pred/pred_20180830.parquet',\n",
       " 'test_pred/pred_20180831.parquet',\n",
       " 'test_pred/pred_20180901.parquet',\n",
       " 'test_pred/pred_20180902.parquet',\n",
       " 'test_pred/pred_20180903.parquet',\n",
       " 'test_pred/pred_20180904.parquet',\n",
       " 'test_pred/pred_20180905.parquet',\n",
       " 'test_pred/pred_20180906.parquet',\n",
       " 'test_pred/pred_20180907.parquet',\n",
       " 'test_pred/pred_20180908.parquet',\n",
       " 'test_pred/pred_20180909.parquet',\n",
       " 'test_pred/pred_20180910.parquet',\n",
       " 'test_pred/pred_20180911.parquet',\n",
       " 'test_pred/pred_20180912.parquet',\n",
       " 'test_pred/pred_20180913.parquet',\n",
       " 'test_pred/pred_20180914.parquet',\n",
       " 'test_pred/pred_20180915.parquet',\n",
       " 'test_pred/pred_20180916.parquet',\n",
       " 'test_pred/pred_20180917.parquet',\n",
       " 'test_pred/pred_20180918.parquet']"
      ]
     },
     "execution_count": 6,
     "metadata": {},
     "output_type": "execute_result"
    }
   ],
   "source": [
    "test_files"
   ]
  },
  {
   "cell_type": "code",
   "execution_count": 9,
   "metadata": {},
   "outputs": [
    {
     "name": "stderr",
     "output_type": "stream",
     "text": [
      "100%|██████████| 66/66 [15:22<00:00, 13.12s/it]\n"
     ]
    }
   ],
   "source": [
    "from scipy.special import logit, expit\n",
    "\n",
    "with open('submission_0108.txt', 'w') as f:\n",
    "    for item in tqdm(test_files):\n",
    "        #data =0.35*hkl.load(data_path+item[15:23]+'_y_pred_mtsk.hkl') + 0.33*hkl.load(data_path+item[15:23]+'_y_pred_max.hkl') + 0.31*hkl.load(data_path+item[15:23]+'_y_pred.hkl')\n",
    "       # data = 0.32*hkl.load(data_path+item[15:23]+'_y_pred_mtsk_larger_bn.hkl')+0.34*hkl.load(data_path+item[15:23]+'_y_pred_mtsk_larger_v2.hkl')+0.34*hkl.load(data_path+item[15:23]+'_y_pred_mtsk_larger.hkl')\n",
    "     #   data = 0.25*hkl.load(data_path+item[15:23]+'_y_pred_mtsk_larger_bn.hkl')+0.25*hkl.load(data_path+item[15:23]+'_y_pred_mtsk_larger_v2.hkl')+0.25*hkl.load(data_path+item[15:23]+'_y_pred_mtsk_larger.hkl')+0.25*hkl.load(data_path+item[15:23]+'_y_pred_mtsk_larger_v3.hkl')\n",
    "        #data = 0.2*hkl.load(data_path+item[15:23]+'_y_pred_mtsk_larger_bn.hkl')+0.2*hkl.load(data_path+item[15:23]+'_y_pred_mtsk_larger_v2.hkl')+0.2*hkl.load(data_path+item[15:23]+'_y_pred_mtsk_larger.hkl')+0.2*hkl.load(data_path+item[15:23]+'_y_pred_mtsk_larger_v3.hkl')+0.2*hkl.load(data_path+item[15:23]+'_y_pred_mtsk_larger_v4.hkl')\n",
    "       # data = expit(0.2*logit(hkl.load(data_path+item[15:23]+'_y_pred_mtsk_larger_bn.hkl'))+0.2*logit(hkl.load(data_path+item[15:23]+'_y_pred_mtsk_larger_v2.hkl'))+0.2*logit(hkl.load(data_path+item[15:23]+'_y_pred_mtsk_larger.hkl'))+0.2*logit(hkl.load(data_path+item[15:23]+'_y_pred_mtsk_larger_v3.hkl'))+0.2*logit(hkl.load(data_path+item[15:23]+'_y_pred_mtsk_larger_v4.hkl')))\n",
    "        #data = expit(0.166*logit(hkl.load(data_path+item[15:23]+'_y_pred_mtsk_larger_bn.hkl'))+0.166*logit(hkl.load(data_path+item[15:23]+'_y_pred_mtsk_larger_v2.hkl'))+0.167*logit(hkl.load(data_path+item[15:23]+'_y_pred_mtsk_larger.hkl'))+0.167*logit(hkl.load(data_path+item[15:23]+'_y_pred_mtsk_larger_v3.hkl'))+0.167*logit(hkl.load(data_path+item[15:23]+'_y_pred_mtsk_larger_v4.hkl'))+0.167*logit(hkl.load(data_path+item[15:23]+'_y_pred_mtsk_larger_v6.hkl')))\n",
    "        data = hkl.load(data_path+item[15:23]+'_y_pred_mtsk_larger_v6.hkl')\n",
    "\n",
    "        pred = data*0\n",
    "        pred[data>0.5] = 1        \n",
    "        pred = pred.astype(int)        \n",
    "        preddf = pd.read_parquet(item)\n",
    "        preddf = preddf[['session_id','session_length']]\n",
    "        preddf = preddf.drop_duplicates(subset = 'session_id')\n",
    "        session_length = np.array(preddf['session_length'])\n",
    "        if data.shape[0] != len(session_length):\n",
    "            print('error!')\n",
    "        for i in range(len(session_length)):\n",
    "            tmp = pred[i,:]\n",
    "            tmp_len = int(np.ceil(session_length[i]/2))\n",
    "            tmp = tmp[range(tmp_len)]\n",
    "            f.write(\"%s\\n\" % ''.join(map(str, tmp)))"
   ]
  },
  {
   "cell_type": "code",
   "execution_count": null,
   "metadata": {},
   "outputs": [],
   "source": []
  }
 ],
 "metadata": {
  "kernelspec": {
   "display_name": "Python 3",
   "language": "python",
   "name": "python3"
  },
  "language_info": {
   "codemirror_mode": {
    "name": "ipython",
    "version": 3
   },
   "file_extension": ".py",
   "mimetype": "text/x-python",
   "name": "python",
   "nbconvert_exporter": "python",
   "pygments_lexer": "ipython3",
   "version": "3.6.6"
  }
 },
 "nbformat": 4,
 "nbformat_minor": 2
}
